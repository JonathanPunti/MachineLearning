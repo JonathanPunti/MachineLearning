{
 "cells": [
  {
   "cell_type": "code",
   "execution_count": 106,
   "id": "bf2c4e80",
   "metadata": {},
   "outputs": [],
   "source": [
    "ages = [19, 22, 19, 24, 20, 25, 26, 24, 25, 24]"
   ]
  },
  {
   "cell_type": "code",
   "execution_count": 107,
   "id": "ffc553a8",
   "metadata": {},
   "outputs": [
    {
     "name": "stdout",
     "output_type": "stream",
     "text": [
      "[19, 19, 20, 22, 24, 24, 24, 25, 25, 26]\n",
      "19\n",
      "26\n"
     ]
    }
   ],
   "source": [
    "ages.sort()\n",
    "print(ages)\n",
    "print(min(ages))\n",
    "print(max(ages))"
   ]
  },
  {
   "cell_type": "code",
   "execution_count": 108,
   "id": "4053ccc2",
   "metadata": {},
   "outputs": [
    {
     "name": "stdout",
     "output_type": "stream",
     "text": [
      "[19, 19, 19, 20, 22, 24, 24, 24, 25, 25, 26, 26]\n"
     ]
    }
   ],
   "source": [
    "ages.append(min(ages))\n",
    "ages.append(max(ages))\n",
    "\n",
    "ages.sort()\n",
    "print(ages)"
   ]
  },
  {
   "cell_type": "code",
   "execution_count": 119,
   "id": "91dca020",
   "metadata": {},
   "outputs": [
    {
     "name": "stdout",
     "output_type": "stream",
     "text": [
      "24.0\n",
      "24.0\n"
     ]
    }
   ],
   "source": [
    "import numpy as np\n",
    "\n",
    "print(np.median(ages))\n",
    "\n",
    "\n",
    "mid = len(ages) // 2\n",
    "median = (ages[mid] + ages[mid]) / 2\n",
    "print(median)"
   ]
  },
  {
   "cell_type": "code",
   "execution_count": 110,
   "id": "a0bd36d7",
   "metadata": {},
   "outputs": [
    {
     "name": "stdout",
     "output_type": "stream",
     "text": [
      "22.75\n"
     ]
    }
   ],
   "source": [
    "average = (sum(ages) / len(ages))\n",
    "print(average)"
   ]
  },
  {
   "cell_type": "code",
   "execution_count": 111,
   "id": "5d1c1ed2",
   "metadata": {},
   "outputs": [
    {
     "name": "stdout",
     "output_type": "stream",
     "text": [
      "7\n"
     ]
    }
   ],
   "source": [
    "range = ages[-1] - ages[0]\n",
    "print(range)"
   ]
  },
  {
   "cell_type": "code",
   "execution_count": 112,
   "id": "f6a82749",
   "metadata": {
    "scrolled": true
   },
   "outputs": [
    {
     "name": "stdout",
     "output_type": "stream",
     "text": [
      "Question 2\n"
     ]
    }
   ],
   "source": [
    "print(\"Question 2\")"
   ]
  },
  {
   "cell_type": "code",
   "execution_count": 120,
   "id": "0c59b080",
   "metadata": {},
   "outputs": [],
   "source": [
    "dog = {}"
   ]
  },
  {
   "cell_type": "code",
   "execution_count": 129,
   "id": "cfbc64da",
   "metadata": {},
   "outputs": [
    {
     "name": "stdout",
     "output_type": "stream",
     "text": [
      "{'name': 'Bill', 'breed': 'Pug', 'legs': 4, 'age': 3}\n"
     ]
    }
   ],
   "source": [
    "dog = {\n",
    "    'name' : 'Bill',\n",
    "    'breed' : 'Pug',\n",
    "    'legs' : 4,\n",
    "    'age' : 3\n",
    "}\n",
    "print(dog)"
   ]
  },
  {
   "cell_type": "code",
   "execution_count": 139,
   "id": "7ee015f1",
   "metadata": {},
   "outputs": [],
   "source": [
    "student = {\n",
    "    'first_name' : 'John',\n",
    "    'last_name' : 'Smith',\n",
    "    'gender' : 'M',\n",
    "    'age' : 60,\n",
    "    'marital status' : 'Single',\n",
    "    'skills' : ['JavaScript', 'React', 'Node'],\n",
    "    'country' : 'Canada',\n",
    "    'city' : 'Belton',\n",
    "    'address':{\n",
    "        'street':'Jackson street',\n",
    "        'zipcode':'65023'\n",
    "    },\n",
    "}"
   ]
  },
  {
   "cell_type": "code",
   "execution_count": 140,
   "id": "3e1328a6",
   "metadata": {},
   "outputs": [
    {
     "name": "stdout",
     "output_type": "stream",
     "text": [
      "9\n"
     ]
    }
   ],
   "source": [
    "print(len(student))"
   ]
  },
  {
   "cell_type": "code",
   "execution_count": 142,
   "id": "2ecb7ae6",
   "metadata": {},
   "outputs": [
    {
     "name": "stdout",
     "output_type": "stream",
     "text": [
      "['JavaScript', 'React', 'Node']\n",
      "Datatype :  <class 'list'>\n"
     ]
    }
   ],
   "source": [
    "print(student['skills'])\n",
    "num = 100\n",
    "print('Datatype : ',type(student['skills']))"
   ]
  },
  {
   "cell_type": "code",
   "execution_count": 143,
   "id": "f7a0ce43",
   "metadata": {},
   "outputs": [
    {
     "name": "stdout",
     "output_type": "stream",
     "text": [
      "['JavaScript', 'React', 'Node', 'HTML']\n"
     ]
    }
   ],
   "source": [
    "student['skills'].append('HTML')\n",
    "print(student['skills'])"
   ]
  },
  {
   "cell_type": "code",
   "execution_count": 147,
   "id": "4046cad1",
   "metadata": {},
   "outputs": [
    {
     "name": "stdout",
     "output_type": "stream",
     "text": [
      "dict_keys(['first_name', 'last_name', 'gender', 'age', 'marital status', 'skills', 'country', 'city', 'address'])\n"
     ]
    }
   ],
   "source": [
    "keys = student.keys()\n",
    "print(keys)"
   ]
  },
  {
   "cell_type": "code",
   "execution_count": 148,
   "id": "bc49c7e8",
   "metadata": {},
   "outputs": [
    {
     "name": "stdout",
     "output_type": "stream",
     "text": [
      "dict_values(['John', 'Smith', 'M', 60, 'Single', ['JavaScript', 'React', 'Node', 'HTML'], 'Canada', 'Belton', {'street': 'Jackson street', 'zipcode': '65023'}])\n"
     ]
    }
   ],
   "source": [
    "values = student.values()\n",
    "print(values)"
   ]
  },
  {
   "cell_type": "code",
   "execution_count": 149,
   "id": "3d7e9f30",
   "metadata": {},
   "outputs": [
    {
     "name": "stdout",
     "output_type": "stream",
     "text": [
      "Question 3\n"
     ]
    }
   ],
   "source": [
    "print(\"Question 3\")"
   ]
  },
  {
   "cell_type": "code",
   "execution_count": 153,
   "id": "79e242f7",
   "metadata": {},
   "outputs": [
    {
     "name": "stdout",
     "output_type": "stream",
     "text": [
      "('Jack', 'Mateo')\n",
      "('Leslie', 'Rosa')\n"
     ]
    }
   ],
   "source": [
    "brothers = ('Jack', 'Mateo')\n",
    "sisters = ('Leslie', 'Rosa')\n",
    "print(brothers)\n",
    "print(sisters)"
   ]
  },
  {
   "cell_type": "code",
   "execution_count": 154,
   "id": "82dd470c",
   "metadata": {},
   "outputs": [
    {
     "name": "stdout",
     "output_type": "stream",
     "text": [
      "('Jack', 'Mateo', 'Leslie', 'Rosa')\n"
     ]
    }
   ],
   "source": [
    "siblings = brothers + sisters\n",
    "print(siblings)"
   ]
  },
  {
   "cell_type": "code",
   "execution_count": 158,
   "id": "d22ba51f",
   "metadata": {},
   "outputs": [
    {
     "data": {
      "text/plain": [
       "4"
      ]
     },
     "execution_count": 158,
     "metadata": {},
     "output_type": "execute_result"
    }
   ],
   "source": [
    "len(siblings)"
   ]
  },
  {
   "cell_type": "code",
   "execution_count": 157,
   "id": "b71285cc",
   "metadata": {},
   "outputs": [
    {
     "name": "stdout",
     "output_type": "stream",
     "text": [
      "('Jack', 'Mateo', 'Leslie', 'Rosa', 'Daniel', 'Alexis')\n"
     ]
    }
   ],
   "source": [
    "parents = ('Daniel', 'Alexis')\n",
    "family = siblings + parents\n",
    "print(family)"
   ]
  },
  {
   "cell_type": "code",
   "execution_count": 159,
   "id": "adc2ce1d",
   "metadata": {},
   "outputs": [
    {
     "name": "stdout",
     "output_type": "stream",
     "text": [
      "Question 4\n"
     ]
    }
   ],
   "source": [
    "print(\"Question 4\")"
   ]
  },
  {
   "cell_type": "code",
   "execution_count": 196,
   "id": "ed80d855",
   "metadata": {},
   "outputs": [
    {
     "data": {
      "text/plain": [
       "7"
      ]
     },
     "execution_count": 196,
     "metadata": {},
     "output_type": "execute_result"
    }
   ],
   "source": [
    "it_companies = {'Facebook', 'Google', 'Microsoft', 'Apple', 'IBM', 'Oracle', 'Amazon'}\n",
    "A = {19, 22, 24, 20, 25, 26}\n",
    "B = {19, 22, 20, 25, 26, 24, 28, 27}\n",
    "age = [22, 19, 24, 25, 26, 24, 25, 24]\n",
    "\n",
    "len(it_companies)"
   ]
  },
  {
   "cell_type": "code",
   "execution_count": 197,
   "id": "f12b95c7",
   "metadata": {},
   "outputs": [
    {
     "name": "stdout",
     "output_type": "stream",
     "text": [
      "{'Amazon', 'Google', 'Microsoft', 'Twitter', 'Facebook', 'Apple', 'Oracle', 'IBM'}\n"
     ]
    }
   ],
   "source": [
    "it_companies.add('Twitter')\n",
    "print(it_companies)"
   ]
  },
  {
   "cell_type": "code",
   "execution_count": 198,
   "id": "41697f35",
   "metadata": {},
   "outputs": [
    {
     "name": "stdout",
     "output_type": "stream",
     "text": [
      "{'Facebook', 'item11', 'Apple', 'Amazon', 'Google', 'Microsoft', 'Oracle', 'item9', 'Twitter', 'item10', 'IBM'}\n"
     ]
    }
   ],
   "source": [
    "it_companies.update(['item9','item10','item11'])\n",
    "print(it_companies)"
   ]
  },
  {
   "cell_type": "code",
   "execution_count": 199,
   "id": "2c94436c",
   "metadata": {},
   "outputs": [
    {
     "name": "stdout",
     "output_type": "stream",
     "text": [
      "{'Facebook', 'item11', 'Amazon', 'Google', 'Microsoft', 'Oracle', 'item9', 'Twitter', 'item10', 'IBM'}\n"
     ]
    }
   ],
   "source": [
    "it_companies.remove('Apple')\n",
    "print(it_companies)"
   ]
  },
  {
   "cell_type": "code",
   "execution_count": 200,
   "id": "21219549",
   "metadata": {},
   "outputs": [],
   "source": [
    "# remove () method will raise an error if the specified item does not exist, and the discard () method will not."
   ]
  },
  {
   "cell_type": "code",
   "execution_count": 201,
   "id": "08046407",
   "metadata": {},
   "outputs": [
    {
     "name": "stdout",
     "output_type": "stream",
     "text": [
      "{19, 20, 22, 24, 25, 26, 27, 28}\n"
     ]
    }
   ],
   "source": [
    "results = A.union(B)\n",
    "print(results)"
   ]
  },
  {
   "cell_type": "code",
   "execution_count": 202,
   "id": "f8870cdc",
   "metadata": {},
   "outputs": [
    {
     "name": "stdout",
     "output_type": "stream",
     "text": [
      "{19, 20, 22, 24, 25, 26}\n"
     ]
    }
   ],
   "source": [
    "intersectAB = A.intersection(B)\n",
    "print(intersectAB)"
   ]
  },
  {
   "cell_type": "code",
   "execution_count": 203,
   "id": "7c53c4c1",
   "metadata": {},
   "outputs": [
    {
     "data": {
      "text/plain": [
       "True"
      ]
     },
     "execution_count": 203,
     "metadata": {},
     "output_type": "execute_result"
    }
   ],
   "source": [
    "A.issubset(B)"
   ]
  },
  {
   "cell_type": "code",
   "execution_count": 210,
   "id": "093fa484",
   "metadata": {},
   "outputs": [
    {
     "data": {
      "text/plain": [
       "False"
      ]
     },
     "execution_count": 210,
     "metadata": {},
     "output_type": "execute_result"
    }
   ],
   "source": [
    "A.isdisjoint(B)"
   ]
  },
  {
   "cell_type": "code",
   "execution_count": 211,
   "id": "6301e0b5",
   "metadata": {},
   "outputs": [
    {
     "name": "stdout",
     "output_type": "stream",
     "text": [
      "{19, 20, 22, 24, 25, 26, 27, 28}\n",
      "{19, 20, 22, 24, 25, 26, 27, 28}\n"
     ]
    }
   ],
   "source": [
    "AandB = A.union(B)\n",
    "BandA = B.union(A)\n",
    "print(AandB)\n",
    "print(BandA)"
   ]
  },
  {
   "cell_type": "code",
   "execution_count": 212,
   "id": "8e343572",
   "metadata": {},
   "outputs": [
    {
     "data": {
      "text/plain": [
       "{27, 28}"
      ]
     },
     "execution_count": 212,
     "metadata": {},
     "output_type": "execute_result"
    }
   ],
   "source": [
    "A.symmetric_difference(B)"
   ]
  },
  {
   "cell_type": "code",
   "execution_count": 213,
   "id": "1f95c96a",
   "metadata": {},
   "outputs": [],
   "source": [
    "del AandB\n",
    "del BandA\n"
   ]
  },
  {
   "cell_type": "code",
   "execution_count": 223,
   "id": "1f18a093",
   "metadata": {},
   "outputs": [
    {
     "name": "stdout",
     "output_type": "stream",
     "text": [
      "[19, 19, 19, 20, 22, 24, 24, 24, 25, 25, 26, 26]\n"
     ]
    },
    {
     "data": {
      "text/plain": [
       "12"
      ]
     },
     "execution_count": 223,
     "metadata": {},
     "output_type": "execute_result"
    }
   ],
   "source": [
    "setOfAges = set(ages)\n",
    "print(ages)\n",
    "len(ages)"
   ]
  },
  {
   "cell_type": "code",
   "execution_count": 224,
   "id": "1a18eec6",
   "metadata": {},
   "outputs": [
    {
     "name": "stdout",
     "output_type": "stream",
     "text": [
      "{19, 20, 22, 24, 25, 26}\n"
     ]
    },
    {
     "data": {
      "text/plain": [
       "6"
      ]
     },
     "execution_count": 224,
     "metadata": {},
     "output_type": "execute_result"
    }
   ],
   "source": [
    "print(setOfAges)\n",
    "len(setOfAges)"
   ]
  },
  {
   "cell_type": "code",
   "execution_count": 281,
   "id": "218532c9",
   "metadata": {},
   "outputs": [
    {
     "name": "stdout",
     "output_type": "stream",
     "text": [
      "Question 5\n"
     ]
    }
   ],
   "source": [
    "print(\"Question 5\")"
   ]
  },
  {
   "cell_type": "code",
   "execution_count": 288,
   "id": "eb5e55c6",
   "metadata": {},
   "outputs": [
    {
     "name": "stdout",
     "output_type": "stream",
     "text": [
      "2826.0\n"
     ]
    }
   ],
   "source": [
    "radius = 30.0\n",
    "pi = 3.14\n",
    "_area_of_circle = pi * radius ** 2\n",
    "print(_area_of_circle)"
   ]
  },
  {
   "cell_type": "code",
   "execution_count": 289,
   "id": "3b4dffdc",
   "metadata": {},
   "outputs": [
    {
     "name": "stdout",
     "output_type": "stream",
     "text": [
      "188.4\n"
     ]
    }
   ],
   "source": [
    "_circum_of_circle_ = 2 * pi * radius\n",
    "print(_circum_of_circle_)"
   ]
  },
  {
   "cell_type": "code",
   "execution_count": 290,
   "id": "545ba85e",
   "metadata": {},
   "outputs": [
    {
     "name": "stdout",
     "output_type": "stream",
     "text": [
      "Enter radius of circle: 30\n",
      "Area of circle 2826.0\n"
     ]
    }
   ],
   "source": [
    "def findArea(r):\n",
    "    area_of_circle = pi * r ** 2\n",
    "    return area_of_circle;\n",
    "\n",
    "userInput = float(input(\"Enter radius of circle: \"))\n",
    "finalAnswer = findArea(userInput)\n",
    "print(\"Area of circle\",finalAnswer)"
   ]
  },
  {
   "cell_type": "code",
   "execution_count": 291,
   "id": "875d9dac",
   "metadata": {},
   "outputs": [
    {
     "name": "stdout",
     "output_type": "stream",
     "text": [
      "Question 6\n"
     ]
    }
   ],
   "source": [
    "print(\"Question 6\")"
   ]
  },
  {
   "cell_type": "code",
   "execution_count": 292,
   "id": "54d6da1f",
   "metadata": {},
   "outputs": [
    {
     "name": "stdout",
     "output_type": "stream",
     "text": [
      "['I', 'am', 'a', 'teacher', 'and', 'I', 'love', 'to', 'inspire', 'and', 'teach', 'people']\n",
      "{'and', 'a', 'inspire', 'love', 'people', 'I', 'am', 'teacher', 'teach', 'to'}\n"
     ]
    }
   ],
   "source": [
    "question6 = 'I am a teacher and I love to inspire and teach people'\n",
    "splitwords = question6.split()\n",
    "setwords = set(splitwords)\n",
    "print(splitwords)\n",
    "print(setwords)"
   ]
  },
  {
   "cell_type": "code",
   "execution_count": 293,
   "id": "f7b24211",
   "metadata": {},
   "outputs": [
    {
     "name": "stdout",
     "output_type": "stream",
     "text": [
      "Question 7\n"
     ]
    }
   ],
   "source": [
    "print(\"Question 7\")"
   ]
  },
  {
   "cell_type": "code",
   "execution_count": 300,
   "id": "e4d211b3",
   "metadata": {},
   "outputs": [
    {
     "name": "stdout",
     "output_type": "stream",
     "text": [
      "Name\t\tAge\tCountry City\n",
      "Asabench\t250\tFinland Helsinki\n"
     ]
    }
   ],
   "source": [
    "part1 = 'Name\\t\\tAge\\tCountry City'\n",
    "part2 = 'Asabench\\t250\\tFinland Helsinki'\n",
    "print(part1)\n",
    "print(part2)"
   ]
  },
  {
   "cell_type": "code",
   "execution_count": 301,
   "id": "963d2ee5",
   "metadata": {},
   "outputs": [
    {
     "name": "stdout",
     "output_type": "stream",
     "text": [
      "Question 8\n"
     ]
    }
   ],
   "source": [
    "print(\"Question 8\")"
   ]
  },
  {
   "cell_type": "code",
   "execution_count": 306,
   "id": "1360322d",
   "metadata": {},
   "outputs": [
    {
     "name": "stdout",
     "output_type": "stream",
     "text": [
      "The area of a circle with radius 10 is 314.0 meters square.\n"
     ]
    }
   ],
   "source": [
    "radius = 10\n",
    "area = 3.14 * radius ** 2\n",
    "\n",
    "sentence = 'The area of a circle with radius {} is {} meters square.'.format(radius, area)\n",
    "print(sentence)"
   ]
  },
  {
   "cell_type": "code",
   "execution_count": 346,
   "id": "49e5fae4",
   "metadata": {},
   "outputs": [
    {
     "name": "stdout",
     "output_type": "stream",
     "text": [
      "Question 9\n"
     ]
    }
   ],
   "source": [
    "print(\"Question 9\")"
   ]
  },
  {
   "cell_type": "code",
   "execution_count": 369,
   "id": "cfeb4a20",
   "metadata": {},
   "outputs": [
    {
     "name": "stdout",
     "output_type": "stream",
     "text": [
      "Enter elements of a list separated by space 10 20 30 40\n",
      "\n",
      "\n",
      "[10, 20, 30, 40]\n",
      "[4.535923700000001, 9.071847400000001, 13.6077711, 18.143694800000002]\n"
     ]
    }
   ],
   "source": [
    "lbsStudents = input('Enter elements of a list separated by space ')\n",
    "print(\"\\n\")\n",
    "user_list = (lbsStudents.split())\n",
    "user_list = list(map(int, user_list))\n",
    "print(user_list)\n",
    "\n",
    "mylist = []\n",
    "for i in user_list:\n",
    "    temp = i * 0.45359237\n",
    "    mylist.append(temp)\n",
    "\n",
    "print(mylist)"
   ]
  },
  {
   "cell_type": "code",
   "execution_count": 345,
   "id": "2292d35b",
   "metadata": {},
   "outputs": [
    {
     "name": "stdout",
     "output_type": "stream",
     "text": [
      "Question 10\n"
     ]
    }
   ],
   "source": [
    "print(\"Question 10\")"
   ]
  },
  {
   "cell_type": "code",
   "execution_count": null,
   "id": "c51fe574",
   "metadata": {},
   "outputs": [],
   "source": []
  }
 ],
 "metadata": {
  "kernelspec": {
   "display_name": "Python 3",
   "language": "python",
   "name": "python3"
  },
  "language_info": {
   "codemirror_mode": {
    "name": "ipython",
    "version": 3
   },
   "file_extension": ".py",
   "mimetype": "text/x-python",
   "name": "python",
   "nbconvert_exporter": "python",
   "pygments_lexer": "ipython3",
   "version": "3.9.1"
  }
 },
 "nbformat": 4,
 "nbformat_minor": 5
}
